{
 "cells": [
  {
   "cell_type": "markdown",
   "metadata": {
    "application/vnd.databricks.v1+cell": {
     "cellMetadata": {
      "byteLimit": 2048000,
      "rowLimit": 10000
     },
     "inputWidgets": {},
     "nuid": "fc749083-2211-485c-943f-640e198b2c70",
     "showTitle": false,
     "title": ""
    }
   },
   "source": [
    "## DSCC202-402 Data Science at Scale Final Project\n",
    "### Tracking Tweet sentiment at scale using a pretrained transformer (classifier)\n",
    "<p>Consider the following illustration of the end to end system that you will be building.  Each student should do their own work.  The project will demonstrate your understanding of Spark Streaming, the medalion data architecture using Delta Lake, Spark Inference at Scale using an MLflow packaged model as well as Exploritory Data Analysis and System Tracking and Monitoring.</p>\n",
    "\n",
    "\n",
    "<img src=\"https://data-science-at-scale.s3.amazonaws.com/images/pipeline.drawio.png\">\n",
    "\n",
    "<p>\n",
    "You will be pulling an updated copy of the course GitHub repositiory: <a href=\"https://github.com/lpalum/dscc202-402-spring2024\">The Repo</a>.  If you are unclear on how to pull an updated copy using the GitHub command line, the following <a href=\"https://techwritingmatters.com/how-to-update-your-forked-repository-on-github\">document</a> is helpful.  Be sure to add the professors and TAs as collaborators on your project. \n",
    "\n",
    "- lpalum@gmail.com GitHub ID: lpalum\n",
    "- ajay.anand@rochester.edu GitHub ID: ajayan12\n",
    "- divyamunot1999@gmail.com GitHub ID: divyamunot\n",
    "- ylong6@u.Rochester.edu GitHub ID: NinaLong2077\n",
    "\n",
    "Once you have updates your fork of the repository you should see the following template project that is resident in the final_project directory.\n",
    "</p>\n",
    "\n",
    "<img src=\"https://data-science-at-scale.s3.amazonaws.com/images/notebooks.drawio.png\">\n",
    "\n",
    "<p>\n",
    "You can then pull your project into the Databrick Workspace using the <a href=\"https://www.databricks.training/step-by-step/importing-courseware-from-github/index.html\">Repos</a> feature.\n",
    "Each student is expected to submit the URL of their project on GitHub with their code checked in on the main/master branch.  This illustration highlights the branching scheme that you may use to work on your code in steps and then merge your submission into your master branch before submitting.\n",
    "</p>\n",
    "<img src=\"https://data-science-at-scale.s3.amazonaws.com/images/github.drawio.png\">\n",
    "<p>\n",
    "Work your way through this notebook which will give you the steps required to submit a complete and compliant project.  The following illustration and associated data dictionary specifies the transformations and data that you are to generate for each step in the medallion pipeline.\n",
    "</p>\n",
    "<br><br>\n",
    "<img src=\"https://data-science-at-scale.s3.amazonaws.com/images/dataframes.drawio.png\">\n",
    "\n",
    "#### Bronze Data - raw ingest\n",
    "- date - string in the source json\n",
    "- user - string in the source json\n",
    "- text - tweet string in the source json\n",
    "- sentiment - the given sentiment of the text as determined by an unknown model that is provided in the source json\n",
    "- source_file - the path of the source json file the this row of data was read from\n",
    "- processing_time - a timestamp of when you read this row from the source json\n",
    "\n",
    "#### Silver Data - Bronze Preprocessing\n",
    "- timestamp - convert date string in the bronze data to a timestamp\n",
    "- mention - every @username mentioned in the text string in the bronze data gets a row in this silver data table.\n",
    "- cleaned_text - the bronze text data with the mentions (@username) removed.\n",
    "- sentiment - the given sentiment that was associated with the text in the bronze table.\n",
    "\n",
    "#### Gold Data - Silver Table Inference\n",
    "- timestamp - the timestamp from the silver data table rows\n",
    "- mention - the mention from the silver data table rows\n",
    "- cleaned_text - the cleaned_text from the silver data table rows\n",
    "- sentiment - the given sentiment from the silver data table rows\n",
    "- predicted_score - score out of 100 from the Hugging Face Sentiment Transformer\n",
    "- predicted_sentiment - string representation of the sentiment\n",
    "- sentiment_id - 0 for negative and 1 for postive associated with the given sentiment\n",
    "- predicted_sentiment_id - 0 for negative and 1 for positive assocaited with the Hugging Face Sentiment Transformer\n",
    "\n",
    "#### Application Data - Gold Table Aggregation\n",
    "- min_timestamp - the oldest timestamp on a given mention (@username)\n",
    "- max_timestamp - the newest timestamp on a given mention (@username)\n",
    "- mention - the user (@username) that this row pertains to.\n",
    "- negative - total negative tweets directed at this mention (@username)\n",
    "- neutral - total neutral tweets directed at this mention (@username)\n",
    "- positive - total positive tweets directed at this mention (@username)\n",
    "\n",
    "When you are designing your approach, one of the main decisions that you will need to make is how you are going to orchestrate the streaming data processing in your pipeline.  There are several valid approaches.  First, you may choose to start the bronze_stream and let it complete (read and append all of the source data) before preceeding and starting up the silver_stream.  This approach has latency associated with it but it will allow your code to proceed in a linear fashion and process all the data by the end of your notebook execution.  Another potential approach is to start all the streams and have a \"watch\" method to determine when the pipeline has processed sufficient or all of the source data before stopping and displaying results.  Both of these approaches are valid and have different implications on how you will trigger your steams and how you will gate the execution of your pipeline.  Think through how you want to proceed and ask questions if you need guidance. The following references may be helpful:\n",
    "- [Spark Structured Streaming Programming Guide](https://spark.apache.org/docs/latest/structured-streaming-programming-guide.html)\n",
    "- [Databricks Autoloader - Cloudfiles](https://docs.databricks.com/en/ingestion/auto-loader/index.html)\n",
    "\n",
    "### Be sure that your project runs end to end when *Run all* is executued on this notebook! (15 Points out of 60)"
   ]
  },
  {
   "cell_type": "code",
   "execution_count": 0,
   "metadata": {
    "application/vnd.databricks.v1+cell": {
     "cellMetadata": {
      "byteLimit": 2048000,
      "rowLimit": 10000
     },
     "inputWidgets": {},
     "nuid": "068f25d0-1387-4342-89cf-ce82a8d614ce",
     "showTitle": true,
     "title": "Pull in the Includes & Utiltites"
    }
   },
   "outputs": [],
   "source": [
    "%run ./includes/includes"
   ]
  },
  {
   "cell_type": "code",
   "execution_count": 0,
   "metadata": {
    "application/vnd.databricks.v1+cell": {
     "cellMetadata": {
      "byteLimit": 2048000,
      "rowLimit": 10000
     },
     "inputWidgets": {},
     "nuid": "6512bf1b-50e0-4a4b-84a9-e280a6260b56",
     "showTitle": true,
     "title": "Notebook Control Widgets (maybe helpful)"
    }
   },
   "outputs": [],
   "source": [
    "\"\"\"\n",
    "Adding a widget to the notebook to control the clearing of a previous run.\n",
    "or stopping the active streams using routines defined in the utilities notebook\n",
    "\"\"\"\n",
    "dbutils.widgets.removeAll()\n",
    "\n",
    "dbutils.widgets.dropdown(\"clear_previous_run\", \"No\", [\"No\",\"Yes\"])\n",
    "if (getArgument(\"clear_previous_run\") == \"Yes\"):\n",
    "    clear_previous_run()\n",
    "    print(\"Cleared all previous data.\")\n",
    "\n",
    "dbutils.widgets.dropdown(\"stop_streams\", \"No\", [\"No\",\"Yes\"])\n",
    "if (getArgument(\"stop_streams\") == \"Yes\"):\n",
    "    stop_all_streams()\n",
    "    print(\"Stopped all active streams.\")\n",
    "\n",
    "from delta import *\n",
    "dbutils.widgets.dropdown(\"optimize_tables\", \"No\", [\"No\",\"Yes\"])\n",
    "if (getArgument(\"optimize_tables\") == \"Yes\"):\n",
    "    # Suck up those small files that we have been appending.\n",
    "    DeltaTable.forPath(spark, BRONZE_DELTA).optimize().executeCompaction()\n",
    "    # Suck up those small files that we have been appending.\n",
    "    DeltaTable.forPath(spark, SILVER_DELTA).optimize().executeCompaction()\n",
    "    # Suck up those small files that we have been appending.\n",
    "    DeltaTable.forPath(spark, GOLD_DELTA).optimize().executeCompaction()\n",
    "    print(\"Optimized all of the Delta Tables\")"
   ]
  },
  {
   "cell_type": "markdown",
   "metadata": {
    "application/vnd.databricks.v1+cell": {
     "cellMetadata": {
      "byteLimit": 2048000,
      "rowLimit": 10000
     },
     "inputWidgets": {},
     "nuid": "e8ce7c13-7f8f-4e11-b50c-fdaebbcf3f99",
     "showTitle": false,
     "title": ""
    }
   },
   "source": [
    "## 1.0 Import your libraries here...\n",
    "- Are your shuffle partitions consistent with your cluster and your workload?\n",
    "- Do you have the necessary libraries to perform the required operations in the pipeline/application?"
   ]
  },
  {
   "cell_type": "code",
   "execution_count": 0,
   "metadata": {
    "application/vnd.databricks.v1+cell": {
     "cellMetadata": {
      "byteLimit": 2048000,
      "rowLimit": 10000
     },
     "inputWidgets": {},
     "nuid": "67bafbb7-d34e-4e86-b159-b2e062faa1d0",
     "showTitle": false,
     "title": ""
    }
   },
   "outputs": [],
   "source": [
    "# Import \n",
    "from pyspark.sql.types import *\n",
    "from pyspark.sql.functions import input_file_name, col, current_timestamp, sum, desc, size, split, udf, count, when, to_timestamp, explode, regexp_extract, regexp_replace, ltrim, substring\n",
    "import pandas as pd\n",
    "import numpy as np\n",
    "import matplotlib.pyplot as plt\n",
    "import seaborn as sns\n",
    "\n",
    "import mlflow\n",
    "import mlflow.sklearn\n",
    "from sklearn.metrics import precision_score, recall_score, f1_score, confusion_matrix\n"
   ]
  },
  {
   "cell_type": "markdown",
   "metadata": {
    "application/vnd.databricks.v1+cell": {
     "cellMetadata": {
      "byteLimit": 2048000,
      "rowLimit": 10000
     },
     "inputWidgets": {},
     "nuid": "2b7624b4-0aa5-46b7-9767-52f462b2c574",
     "showTitle": false,
     "title": ""
    }
   },
   "source": [
    "## 2.0 Use the utility functions to ...\n",
    "- Read the source file directory listing\n",
    "- Count the source files (how many are there?)\n",
    "- print the contents of one of the files"
   ]
  },
  {
   "cell_type": "code",
   "execution_count": 0,
   "metadata": {
    "application/vnd.databricks.v1+cell": {
     "cellMetadata": {
      "byteLimit": 2048000,
      "rowLimit": 10000
     },
     "inputWidgets": {},
     "nuid": "a59749d5-e45d-460f-9be1-33652cda2ea5",
     "showTitle": false,
     "title": ""
    }
   },
   "outputs": [],
   "source": [
    "# ENTER YOUR CODE HERE\n",
    "source_file_listing = get_source_listing_df()\n",
    "source_file_listing"
   ]
  },
  {
   "cell_type": "code",
   "execution_count": 0,
   "metadata": {
    "application/vnd.databricks.v1+cell": {
     "cellMetadata": {
      "byteLimit": 2048000,
      "rowLimit": 10000
     },
     "inputWidgets": {},
     "nuid": "870166d1-7860-4429-91ee-f58536a87cb3",
     "showTitle": false,
     "title": ""
    }
   },
   "outputs": [],
   "source": [
    "source_file_listing.count()"
   ]
  },
  {
   "cell_type": "code",
   "execution_count": 0,
   "metadata": {
    "application/vnd.databricks.v1+cell": {
     "cellMetadata": {
      "byteLimit": 2048000,
      "rowLimit": 10000
     },
     "inputWidgets": {},
     "nuid": "b181ac05-323d-4c5e-82ad-0d86d29b8ba5",
     "showTitle": false,
     "title": ""
    }
   },
   "outputs": [],
   "source": [
    "source_file_listing.head()"
   ]
  },
  {
   "cell_type": "code",
   "execution_count": 0,
   "metadata": {
    "application/vnd.databricks.v1+cell": {
     "cellMetadata": {
      "byteLimit": 2048000,
      "rowLimit": 10000
     },
     "inputWidgets": {},
     "nuid": "eeafffa5-2c00-41ab-a80e-fd434ed46938",
     "showTitle": false,
     "title": ""
    }
   },
   "outputs": [],
   "source": [
    "print(show_s3_file_contents('voc_volume/1.json'))"
   ]
  },
  {
   "cell_type": "markdown",
   "metadata": {
    "application/vnd.databricks.v1+cell": {
     "cellMetadata": {
      "byteLimit": 2048000,
      "rowLimit": 10000
     },
     "inputWidgets": {},
     "nuid": "1676aed7-527f-4ea7-9d3b-52544e8c1e37",
     "showTitle": false,
     "title": ""
    }
   },
   "source": [
    "## 3.0 Transform the Raw Data to Bronze Data using a stream\n",
    "- define the schema for the raw data\n",
    "- setup a read stream using cloudfiles and the source data format\n",
    "- setup a write stream using cloudfiles to append to the bronze delta table\n",
    "- enforce schema\n",
    "- allow a new schema to be merged into the bronze delta table\n",
    "- Use the defined BRONZE_CHECKPOINT and BRONZE_DELTA paths defines in the includes\n",
    "- name your raw to bronze stream as bronze_stream\n",
    "- transform the raw data to the bronze data using the data definition at the top of the notebook"
   ]
  },
  {
   "cell_type": "code",
   "execution_count": 0,
   "metadata": {
    "application/vnd.databricks.v1+cell": {
     "cellMetadata": {
      "byteLimit": 2048000,
      "rowLimit": 10000
     },
     "inputWidgets": {},
     "nuid": "c4e37574-9885-4908-bf97-609d140a8818",
     "showTitle": false,
     "title": ""
    }
   },
   "outputs": [],
   "source": [
    "# ENTER YOUR CODE HERE\n",
    "raw_schema = StructType([\n",
    "    StructField(\"date\", StringType(), True),\n",
    "    StructField(\"user\", StringType(), True),\n",
    "    StructField(\"text\", StringType(), True),\n",
    "    StructField(\"sentiment\", StringType(), True)\n",
    "])"
   ]
  },
  {
   "cell_type": "code",
   "execution_count": 0,
   "metadata": {
    "application/vnd.databricks.v1+cell": {
     "cellMetadata": {
      "byteLimit": 2048000,
      "rowLimit": 10000
     },
     "inputWidgets": {},
     "nuid": "af0eb230-e1dd-4366-ab27-519a2f63996a",
     "showTitle": false,
     "title": ""
    }
   },
   "outputs": [],
   "source": [
    "raw_stream = (spark\n",
    "    .readStream\n",
    "    .format(\"cloudFiles\")\n",
    "    .option(\"cloudFiles.format\", \"json\")\n",
    "    .schema(raw_schema)\n",
    "    .load(TWEET_SOURCE_PATH)\n",
    "    .withColumn('source_file',input_file_name())\n",
    "    .withColumn('processing_time',current_timestamp())\n",
    ")"
   ]
  },
  {
   "cell_type": "code",
   "execution_count": 0,
   "metadata": {
    "application/vnd.databricks.v1+cell": {
     "cellMetadata": {
      "byteLimit": 2048000,
      "rowLimit": 10000
     },
     "inputWidgets": {},
     "nuid": "a6dab40c-42bd-4944-a3ff-29d5fb0443f8",
     "showTitle": false,
     "title": ""
    }
   },
   "outputs": [],
   "source": [
    "# Define schema for additional columns: source_file and processing_time\n",
    "# new_columns = [StructField('source_file', StringType(), True), \n",
    "#                             StructField('processing_time', TimestampType(), False)]\n",
    "# bronze_schema = StructType(list(raw_schema) + new_columns)\n",
    "\n",
    "bronze_schema = StructType([\n",
    "    StructField(\"date\", StringType(), True),\n",
    "    StructField(\"user\", StringType(), True),\n",
    "    StructField(\"text\", StringType(), True),\n",
    "    StructField(\"sentiment\", StringType(), True),\n",
    "    StructField('source_file', StringType(), True),\n",
    "    StructField('processing_time', TimestampType(), False)\n",
    "])"
   ]
  },
  {
   "cell_type": "code",
   "execution_count": 0,
   "metadata": {
    "application/vnd.databricks.v1+cell": {
     "cellMetadata": {
      "byteLimit": 2048000,
      "rowLimit": 10000
     },
     "inputWidgets": {},
     "nuid": "42a48ffb-e0f4-4253-8862-f112dfa7ee3c",
     "showTitle": false,
     "title": ""
    }
   },
   "outputs": [],
   "source": [
    "\n",
    "bronze_stream = (\n",
    "    raw_stream\n",
    "    .writeStream\n",
    "    .option(\"mergeSchema\",\"true\")\n",
    "    .outputMode(\"append\")\n",
    "    .format('delta')\n",
    "    .queryName(\"bronze_stream\")\n",
    "    .trigger(once=True)\n",
    "    .option(\"checkpointLocation\",BRONZE_CHECKPOINT)\n",
    "    .start(BRONZE_DELTA)\n",
    ")"
   ]
  },
  {
   "cell_type": "code",
   "execution_count": 0,
   "metadata": {
    "application/vnd.databricks.v1+cell": {
     "cellMetadata": {
      "byteLimit": 2048000,
      "rowLimit": 10000
     },
     "inputWidgets": {},
     "nuid": "02e5de89-d1ca-4808-86b0-8b8cff3b4085",
     "showTitle": false,
     "title": ""
    }
   },
   "outputs": [],
   "source": [
    "wait_stream_start(spark, \"bronze_stream\")"
   ]
  },
  {
   "cell_type": "markdown",
   "metadata": {
    "application/vnd.databricks.v1+cell": {
     "cellMetadata": {
      "byteLimit": 2048000,
      "rowLimit": 10000
     },
     "inputWidgets": {},
     "nuid": "9bc3e824-d218-43e5-a43b-4c6dbe31950d",
     "showTitle": false,
     "title": ""
    }
   },
   "source": [
    "## 4.0 Bronze Data Exploratory Data Analysis\n",
    "- How many tweets are captured in your Bronze Table?\n",
    "- Are there any columns that contain Nan or Null values?  If so how many and what will you do in your silver transforms to address this?\n",
    "- Count the number of tweets by each unique user handle and sort the data by descending count.\n",
    "- How many tweets have at least one mention (@) how many tweet have no mentions (@)\n",
    "- Plot a bar chart that shows the top 20 tweeters (users)\n"
   ]
  },
  {
   "cell_type": "code",
   "execution_count": 0,
   "metadata": {
    "application/vnd.databricks.v1+cell": {
     "cellMetadata": {
      "byteLimit": 2048000,
      "rowLimit": 10000
     },
     "inputWidgets": {},
     "nuid": "091ec59c-d968-4acf-b56f-cc9178cd0693",
     "showTitle": false,
     "title": ""
    }
   },
   "outputs": [],
   "source": [
    "# ENTER YOUR CODE HERE\n",
    "bronze_table = spark.read.format(\"delta\").load(BRONZE_DELTA)\n",
    "display(bronze_table)"
   ]
  },
  {
   "cell_type": "code",
   "execution_count": 0,
   "metadata": {
    "application/vnd.databricks.v1+cell": {
     "cellMetadata": {
      "byteLimit": 2048000,
      "rowLimit": 10000
     },
     "inputWidgets": {},
     "nuid": "7f23e7e3-ac9e-450d-87d8-602b137b9a08",
     "showTitle": false,
     "title": ""
    }
   },
   "outputs": [],
   "source": [
    "tweet_count = bronze_table.count()\n",
    "print(tweet_count)"
   ]
  },
  {
   "cell_type": "code",
   "execution_count": 0,
   "metadata": {
    "application/vnd.databricks.v1+cell": {
     "cellMetadata": {
      "byteLimit": 2048000,
      "rowLimit": 10000
     },
     "inputWidgets": {},
     "nuid": "c028713c-8c4b-4f24-a49f-fb53a307f847",
     "showTitle": false,
     "title": ""
    }
   },
   "outputs": [],
   "source": [
    "columns_with_null = bronze_table.select([count(when(col(c).isNull(), c)).alias(c) for c in bronze_table.columns]).show()\n",
    "display(columns_with_null)\n"
   ]
  },
  {
   "cell_type": "code",
   "execution_count": 0,
   "metadata": {
    "application/vnd.databricks.v1+cell": {
     "cellMetadata": {
      "byteLimit": 2048000,
      "rowLimit": 10000
     },
     "inputWidgets": {},
     "nuid": "569bc160-eb11-4268-bef3-0d87300ee6e8",
     "showTitle": false,
     "title": ""
    }
   },
   "outputs": [],
   "source": [
    "user_tweet_counts = bronze_table.groupBy(\"user\").count().orderBy(col('count').desc())\n",
    "display(user_tweet_counts)\n"
   ]
  },
  {
   "cell_type": "code",
   "execution_count": 0,
   "metadata": {
    "application/vnd.databricks.v1+cell": {
     "cellMetadata": {
      "byteLimit": 2048000,
      "rowLimit": 10000
     },
     "inputWidgets": {},
     "nuid": "c7c85241-6dab-4b34-8974-b4e297c56728",
     "showTitle": false,
     "title": ""
    }
   },
   "outputs": [],
   "source": [
    "bronze_table.filter(col(\"text\").like(\"%@%\")).count()\n"
   ]
  },
  {
   "cell_type": "code",
   "execution_count": 0,
   "metadata": {
    "application/vnd.databricks.v1+cell": {
     "cellMetadata": {
      "byteLimit": 2048000,
      "rowLimit": 10000
     },
     "inputWidgets": {},
     "nuid": "6f2ed2f7-6462-4ee4-a91e-042c5939e053",
     "showTitle": false,
     "title": ""
    }
   },
   "outputs": [],
   "source": [
    "bronze_table.count()"
   ]
  },
  {
   "cell_type": "code",
   "execution_count": 0,
   "metadata": {
    "application/vnd.databricks.v1+cell": {
     "cellMetadata": {
      "byteLimit": 2048000,
      "rowLimit": 10000
     },
     "inputWidgets": {},
     "nuid": "7ca9e135-8c12-461f-8c07-de94b025120c",
     "showTitle": false,
     "title": ""
    }
   },
   "outputs": [],
   "source": [
    "bronze_table.filter(~ col(\"text\").like(\"%@%\")).count()"
   ]
  },
  {
   "cell_type": "code",
   "execution_count": 0,
   "metadata": {
    "application/vnd.databricks.v1+cell": {
     "cellMetadata": {
      "byteLimit": 2048000,
      "rowLimit": 10000
     },
     "inputWidgets": {},
     "nuid": "b0955930-1b88-400c-8000-9f52ebcd5958",
     "showTitle": false,
     "title": ""
    }
   },
   "outputs": [],
   "source": [
    "\n",
    "# Retrieve the top 20 tweeters\n",
    "top_20_users = user_tweet_counts.limit(20).toPandas()\n",
    "\n",
    "# Plot a bar chart that shows the top 20 tweeters (users)\n",
    "plt.bar(top_20_users['user'], top_20_users['count'],color='skyblue')\n",
    "plt.xticks(rotation=45, ha=\"right\")\n",
    "plt.xlabel('User')\n",
    "plt.ylabel('Number of Tweets')\n",
    "plt.title('Top 20 Tweeters')\n",
    "plt.show()"
   ]
  },
  {
   "cell_type": "markdown",
   "metadata": {
    "application/vnd.databricks.v1+cell": {
     "cellMetadata": {
      "byteLimit": 2048000,
      "rowLimit": 10000
     },
     "inputWidgets": {},
     "nuid": "38c290b9-a42a-4551-857b-3f461b8a1be6",
     "showTitle": false,
     "title": ""
    }
   },
   "source": [
    "## 5.0 Transform the Bronze Data to Silver Data using a stream\n",
    "- setup a read stream on your bronze delta table\n",
    "- setup a write stream to append to the silver delta table\n",
    "- Use the defined SILVER_CHECKPOINT and SILVER_DELTA paths in the includes\n",
    "- name your bronze to silver stream as silver_stream\n",
    "- transform the bronze data to the silver data using the data definition at the top of the notebook"
   ]
  },
  {
   "cell_type": "code",
   "execution_count": 0,
   "metadata": {
    "application/vnd.databricks.v1+cell": {
     "cellMetadata": {
      "byteLimit": 2048000,
      "rowLimit": 10000
     },
     "inputWidgets": {},
     "nuid": "65b029cb-ba45-4625-a9c1-d0d410a4962b",
     "showTitle": false,
     "title": ""
    }
   },
   "outputs": [],
   "source": [
    "# # ENTER YOUR CODE HERE\n",
    "bronze_read_stream = (\n",
    "    spark\n",
    "    .readStream\n",
    "    .format('delta')\n",
    "    .load(BRONZE_DELTA)\n",
    ")"
   ]
  },
  {
   "cell_type": "code",
   "execution_count": 0,
   "metadata": {
    "application/vnd.databricks.v1+cell": {
     "cellMetadata": {
      "byteLimit": 2048000,
      "rowLimit": 10000
     },
     "inputWidgets": {},
     "nuid": "2fee4f7c-be75-452a-8305-74172f0952f8",
     "showTitle": false,
     "title": ""
    }
   },
   "outputs": [],
   "source": [
    "silver_data = (\n",
    "    bronze_read_stream\n",
    "    .withColumn(\"timestamp\", to_timestamp(col(\"date\"), \"EEE MMM dd HH:mm:ss zzz yyyy\"))\n",
    "\n",
    "    .withColumn(\"mention\", explode(split(col(\"text\"), \" \")))\n",
    "    .filter(col(\"mention\").startswith(\"@\"))\n",
    "\n",
    "    .withColumn(\"cleaned_text\",regexp_replace(col('text'),\"(\\s|^)@\\w+\",\"\"))\n",
    "\n",
    "    .select(\"timestamp\",\"mention\",\"cleaned_text\",\"sentiment\")\n",
    ")"
   ]
  },
  {
   "cell_type": "code",
   "execution_count": 0,
   "metadata": {
    "application/vnd.databricks.v1+cell": {
     "cellMetadata": {
      "byteLimit": 2048000,
      "rowLimit": 10000
     },
     "inputWidgets": {},
     "nuid": "aa6b0726-00c5-4dee-a525-548d5d3bcb85",
     "showTitle": false,
     "title": ""
    }
   },
   "outputs": [],
   "source": [
    "silver_stream = (\n",
    "    silver_data\n",
    "    .writeStream\n",
    "    .option(\"mergeSchema\",\"true\")\n",
    "    .outputMode(\"append\")\n",
    "    .format('delta')\n",
    "    .queryName(\"silver_stream\")\n",
    "    .trigger(once=True)\n",
    "    # .trigger(processingTime='10 seconds')\n",
    "    .option(\"checkpointLocation\",SILVER_CHECKPOINT)\n",
    "    .start(SILVER_DELTA)\n",
    ")"
   ]
  },
  {
   "cell_type": "code",
   "execution_count": 0,
   "metadata": {
    "application/vnd.databricks.v1+cell": {
     "cellMetadata": {
      "byteLimit": 2048000,
      "rowLimit": 10000
     },
     "inputWidgets": {},
     "nuid": "0707d9d6-6ee3-4854-93fe-03817b360d0f",
     "showTitle": false,
     "title": ""
    }
   },
   "outputs": [],
   "source": [
    "wait_stream_start(spark, \"silver_stream\")"
   ]
  },
  {
   "cell_type": "code",
   "execution_count": 0,
   "metadata": {
    "application/vnd.databricks.v1+cell": {
     "cellMetadata": {
      "byteLimit": 2048000,
      "rowLimit": 10000
     },
     "inputWidgets": {},
     "nuid": "8c2d1a5b-706a-43af-afb0-6cc32172aa58",
     "showTitle": false,
     "title": ""
    }
   },
   "outputs": [],
   "source": [
    "# bronze_to_silver_tr = (\n",
    "#     bronze_read_stream\n",
    "#     .withColumn(\"timestamp\",to_timestamp(substring(col(\"date\"),5,25),\"MMM dd kk:mm:ss zzz yyyy\"))\n",
    "#     .withColumn('words',split(col('text'),\" \"))\n",
    "#     .withColumn('mention',explode(split(col('text'),\" \")))\n",
    "#     .filter(\"mention like '@%' and mention <> '@'\")\n",
    "#     .withColumn(\"cleaned_text\",regexp_replace(col('text'),\"(\\s|^)@\\w+\",\"\"))\n",
    "#     .select(\"timestamp\",\"mention\",\"cleaned_text\",\"sentiment\")\n",
    "# )"
   ]
  },
  {
   "cell_type": "code",
   "execution_count": 0,
   "metadata": {
    "application/vnd.databricks.v1+cell": {
     "cellMetadata": {
      "byteLimit": 2048000,
      "rowLimit": 10000
     },
     "inputWidgets": {},
     "nuid": "6d02f9db-3fa7-44f7-ad0e-79a1848e1a8e",
     "showTitle": false,
     "title": ""
    }
   },
   "outputs": [],
   "source": [
    "test_table = spark.read.format(\"delta\").load(SILVER_DELTA)\n"
   ]
  },
  {
   "cell_type": "code",
   "execution_count": 0,
   "metadata": {
    "application/vnd.databricks.v1+cell": {
     "cellMetadata": {
      "byteLimit": 2048000,
      "rowLimit": 10000
     },
     "inputWidgets": {},
     "nuid": "14a23fab-f1f5-4bfe-ab12-42fa9c554050",
     "showTitle": false,
     "title": ""
    }
   },
   "outputs": [],
   "source": [
    "test_table"
   ]
  },
  {
   "cell_type": "code",
   "execution_count": 0,
   "metadata": {
    "application/vnd.databricks.v1+cell": {
     "cellMetadata": {
      "byteLimit": 2048000,
      "rowLimit": 10000
     },
     "inputWidgets": {},
     "nuid": "89922647-9d23-4e7a-826b-72f040051683",
     "showTitle": false,
     "title": ""
    }
   },
   "outputs": [],
   "source": [
    "test_table.count()"
   ]
  },
  {
   "cell_type": "code",
   "execution_count": 0,
   "metadata": {
    "application/vnd.databricks.v1+cell": {
     "cellMetadata": {
      "byteLimit": 2048000,
      "rowLimit": 10000
     },
     "inputWidgets": {},
     "nuid": "ca4f5129-984b-4748-8fc5-918049e8c827",
     "showTitle": false,
     "title": ""
    }
   },
   "outputs": [],
   "source": [
    "spark.read.format(\"delta\").load(GOLD_DELTA).count()\n"
   ]
  },
  {
   "cell_type": "markdown",
   "metadata": {
    "application/vnd.databricks.v1+cell": {
     "cellMetadata": {
      "byteLimit": 2048000,
      "rowLimit": 10000
     },
     "inputWidgets": {},
     "nuid": "9ee38aba-e340-4766-8339-71ef2ecfde3a",
     "showTitle": false,
     "title": ""
    }
   },
   "source": [
    "## 6.0 Transform the Silver Data to Gold Data using a stream\n",
    "- setup a read stream on your silver delta table\n",
    "- setup a write stream to append to the gold delta table\n",
    "- Use the defined GOLD_CHECKPOINT and GOLD_DELTA paths defines in the includes\n",
    "- name your silver to gold stream as gold_stream\n",
    "- transform the silver data to the gold data using the data definition at the top of the notebook\n",
    "- Load the pretrained transformer sentiment classifier from the MODEL_NAME at the production level from the MLflow registry\n",
    "- Use a spark UDF to parallelize the inference across your silver data"
   ]
  },
  {
   "cell_type": "code",
   "execution_count": 0,
   "metadata": {
    "application/vnd.databricks.v1+cell": {
     "cellMetadata": {
      "byteLimit": 2048000,
      "rowLimit": 10000
     },
     "inputWidgets": {},
     "nuid": "31e8949d-c016-44a7-9f03-65f471dfd22d",
     "showTitle": false,
     "title": ""
    }
   },
   "outputs": [],
   "source": [
    "# ENTER YOUR CODE HERE\n",
    "\n",
    "# Load the Silver Table\n",
    "silver_read_stream = (spark\n",
    "                .readStream\n",
    "                .format('delta')\n",
    "                .load(SILVER_DELTA))"
   ]
  },
  {
   "cell_type": "code",
   "execution_count": 0,
   "metadata": {
    "application/vnd.databricks.v1+cell": {
     "cellMetadata": {
      "byteLimit": 2048000,
      "rowLimit": 10000
     },
     "inputWidgets": {},
     "nuid": "e90a4d49-ff0f-4f89-9550-b8bc20be5795",
     "showTitle": false,
     "title": ""
    }
   },
   "outputs": [],
   "source": [
    "model_uri = f\"models:/{MODEL_NAME}/production\"\n",
    "model_udf = mlflow.pyfunc.spark_udf(spark, model_uri)"
   ]
  },
  {
   "cell_type": "code",
   "execution_count": 0,
   "metadata": {
    "application/vnd.databricks.v1+cell": {
     "cellMetadata": {
      "byteLimit": 2048000,
      "rowLimit": 10000
     },
     "inputWidgets": {},
     "nuid": "e10c6a9c-ba35-4c9e-bc40-0c02bf0e4e33",
     "showTitle": false,
     "title": ""
    }
   },
   "outputs": [],
   "source": [
    "gold_data_df = (\n",
    "    silver_read_stream\n",
    "    .withColumn(\"predicted\",model_udf(col(\"cleaned_text\")))\n",
    "\n",
    "    .withColumn(\"predicted_score\", col(\"predicted.score\").cast(\"double\"))\n",
    "\n",
    "    .withColumn(\"predicted_sentiment\", col(\"predicted.label\"))\n",
    "\n",
    "    .withColumn(\"sentiment_id\",\n",
    "                when(col('sentiment') == 'positive',1)\n",
    "                .otherwise(0))\n",
    "\n",
    "    .withColumn(\"predicted_sentiment_id\",\n",
    "                when(col('predicted_sentiment') == \"POS\",1)\n",
    "                .when(col('predicted_sentiment') == \"NEG\",0)\n",
    "                .otherwise(-1))\n",
    "    \n",
    "    .select('timestamp', 'mention', 'cleaned_text', 'sentiment', 'predicted_score', 'predicted_sentiment','sentiment_id', 'predicted_sentiment_id')\n",
    "     \n",
    ")\n",
    "# cast tren with column luon\n",
    "     "
   ]
  },
  {
   "cell_type": "code",
   "execution_count": 0,
   "metadata": {
    "application/vnd.databricks.v1+cell": {
     "cellMetadata": {
      "byteLimit": 2048000,
      "rowLimit": 10000
     },
     "inputWidgets": {},
     "nuid": "ebf27b6d-4609-4030-a5e3-4891c6c535d9",
     "showTitle": false,
     "title": ""
    }
   },
   "outputs": [],
   "source": [
    "\n",
    "# Setup a write stream to append to the silver delta table\n",
    "gold_stream = (gold_data_df\n",
    "               .writeStream\n",
    "               .format(\"delta\")\n",
    "               .outputMode(\"append\")\n",
    "               .queryName('gold_stream')\n",
    "               .trigger(once=True)\n",
    "               .option(\"checkpointLocation\", GOLD_CHECKPOINT)\n",
    "               .start(GOLD_DELTA)\n",
    "               )\n",
    "# gold_stream.awaitTermination()"
   ]
  },
  {
   "cell_type": "code",
   "execution_count": 0,
   "metadata": {
    "application/vnd.databricks.v1+cell": {
     "cellMetadata": {
      "byteLimit": 2048000,
      "rowLimit": 10000
     },
     "inputWidgets": {},
     "nuid": "4a29ab92-5b69-4784-90ba-aa1a6dbe35ad",
     "showTitle": false,
     "title": ""
    }
   },
   "outputs": [],
   "source": [
    "wait_stream_start(spark, \"gold_stream\")"
   ]
  },
  {
   "cell_type": "markdown",
   "metadata": {
    "application/vnd.databricks.v1+cell": {
     "cellMetadata": {
      "byteLimit": 2048000,
      "rowLimit": 10000
     },
     "inputWidgets": {},
     "nuid": "0494d8b4-5a55-47fc-af12-47325f34a303",
     "showTitle": false,
     "title": ""
    }
   },
   "source": [
    "## 7.0 Capture the accuracy metrics from the gold table in MLflow\n",
    "Store the following in an MLflow experiment run:\n",
    "- Store the precision, recall, and F1-score as MLflow metrics\n",
    "- Store an image of the confusion matrix as an MLflow artifact\n",
    "- Store the mdoel name and the MLflow version that was used as an MLflow parameters\n",
    "- Store the version of the Delta Table (input-silver) as an MLflow parameter"
   ]
  },
  {
   "cell_type": "code",
   "execution_count": 0,
   "metadata": {
    "application/vnd.databricks.v1+cell": {
     "cellMetadata": {
      "byteLimit": 2048000,
      "rowLimit": 10000
     },
     "inputWidgets": {},
     "nuid": "3bb174ad-67e4-4b0a-be36-ff20a760ee8b",
     "showTitle": false,
     "title": ""
    }
   },
   "outputs": [],
   "source": [
    "# ENTER YOUR CODE HERE\n",
    "gold_table = (spark\n",
    "              .read\n",
    "              .format('delta')\n",
    "              .load(GOLD_DELTA))"
   ]
  },
  {
   "cell_type": "code",
   "execution_count": 0,
   "metadata": {
    "application/vnd.databricks.v1+cell": {
     "cellMetadata": {
      "byteLimit": 2048000,
      "rowLimit": 10000
     },
     "inputWidgets": {},
     "nuid": "16828de1-ae1b-4f4d-a08a-d0ed1576681f",
     "showTitle": false,
     "title": ""
    }
   },
   "outputs": [],
   "source": [
    "model_output_refined = (\n",
    "    gold_table\n",
    "    .filter(col('predicted_sentiment') != 'NEU')\n",
    "    .select('predicted_sentiment', \"sentiment_id\",\"predicted_sentiment_id\")\n",
    "    .toPandas()\n",
    ")"
   ]
  },
  {
   "cell_type": "code",
   "execution_count": 0,
   "metadata": {
    "application/vnd.databricks.v1+cell": {
     "cellMetadata": {
      "byteLimit": 2048000,
      "rowLimit": 10000
     },
     "inputWidgets": {},
     "nuid": "974a199d-0a91-4e7d-970b-6b09cf9c9cc0",
     "showTitle": false,
     "title": ""
    }
   },
   "outputs": [],
   "source": [
    "\n",
    "y_true = model_output_refined['sentiment_id'].astype(int)\n",
    "y_pred = model_output_refined['predicted_sentiment_id'].astype(int)\n",
    "\n",
    "precision = precision_score(y_true, y_pred)\n",
    "recall = recall_score(y_true, y_pred)\n",
    "f1 = f1_score(y_true, y_pred)\n",
    "conf_matrix = confusion_matrix(y_true, y_pred)\n",
    "\n",
    "# Plot confusion matrix\n",
    "plt.figure(figsize=(10, 7))\n",
    "sns.heatmap(conf_matrix, annot=True, fmt='g', cmap='Blues')\n",
    "plt.xlabel('Predicted Labels')\n",
    "plt.ylabel('True Labels')\n",
    "plt.title('Confusion Matrix')\n",
    "plt.savefig('confusion_matrix.png')\n",
    "plt.show()"
   ]
  },
  {
   "cell_type": "code",
   "execution_count": 0,
   "metadata": {
    "application/vnd.databricks.v1+cell": {
     "cellMetadata": {
      "byteLimit": 2048000,
      "rowLimit": 10000
     },
     "inputWidgets": {},
     "nuid": "a82551ba-a8f4-48a4-a101-228d725b424e",
     "showTitle": false,
     "title": ""
    }
   },
   "outputs": [],
   "source": [
    "# Store\n",
    "with mlflow.start_run():\n",
    "    # Log evaluation metrics\n",
    "    mlflow.log_metric(\"precision\", precision)\n",
    "    mlflow.log_metric(\"recall\", recall)\n",
    "    mlflow.log_metric(\"f1\", f1)"
   ]
  },
  {
   "cell_type": "markdown",
   "metadata": {
    "application/vnd.databricks.v1+cell": {
     "cellMetadata": {
      "byteLimit": 2048000,
      "rowLimit": 10000
     },
     "inputWidgets": {},
     "nuid": "81e0e2de-b872-4698-81cc-1669646c2183",
     "showTitle": false,
     "title": ""
    }
   },
   "source": [
    "## 8.0 Application Data Processing and Visualization\n",
    "- How many mentions are there in the gold data total?\n",
    "- Count the number of neutral, positive and negative tweets for each mention in new columns\n",
    "- Capture the total for each mention in a new column\n",
    "- Sort the mention count totals in descending order\n",
    "- Plot a bar chart of the top 20 mentions with positive sentiment (the people who are in favor)\n",
    "- Plot a bar chart of the top 20 mentions with negative sentiment (the people who are the vilians)\n",
    "\n",
    "You may want to use the \"Loop Application\" widget to control whether you repeateded display the latest plots while the data comes in from your streams before moving on to the next section and cleaning up your run.\n",
    "\n",
    "*note: A mention is a specific twitter user that has been \"mentioned\" in a tweet with an @user reference."
   ]
  },
  {
   "cell_type": "code",
   "execution_count": 0,
   "metadata": {
    "application/vnd.databricks.v1+cell": {
     "cellMetadata": {
      "byteLimit": 2048000,
      "rowLimit": 10000
     },
     "inputWidgets": {},
     "nuid": "8250667b-eaa5-48a1-90c7-bfe11e666e32",
     "showTitle": false,
     "title": ""
    }
   },
   "outputs": [],
   "source": [
    "# ENTER YOUR CODE HERE\n",
    "unique_mention_count = gold_table.select('mention').distinct().count()\n",
    "unique_mention_count"
   ]
  },
  {
   "cell_type": "code",
   "execution_count": 0,
   "metadata": {
    "application/vnd.databricks.v1+cell": {
     "cellMetadata": {
      "byteLimit": 2048000,
      "rowLimit": 10000
     },
     "inputWidgets": {},
     "nuid": "56774760-d2bb-43a3-9097-96d3a111560b",
     "showTitle": false,
     "title": ""
    }
   },
   "outputs": [],
   "source": [
    "model_output = (\n",
    "    gold_table\n",
    "    .toPandas()\n",
    ")"
   ]
  },
  {
   "cell_type": "code",
   "execution_count": 0,
   "metadata": {
    "application/vnd.databricks.v1+cell": {
     "cellMetadata": {
      "byteLimit": 2048000,
      "rowLimit": 10000
     },
     "inputWidgets": {},
     "nuid": "2d01ea02-6010-48d5-89a5-e7deddd9866a",
     "showTitle": false,
     "title": ""
    }
   },
   "outputs": [],
   "source": [
    "model_output"
   ]
  },
  {
   "cell_type": "code",
   "execution_count": 0,
   "metadata": {
    "application/vnd.databricks.v1+cell": {
     "cellMetadata": {
      "byteLimit": 2048000,
      "rowLimit": 10000
     },
     "inputWidgets": {},
     "nuid": "50ee911a-1fc9-4263-b2a4-98aeeee38b67",
     "showTitle": false,
     "title": ""
    }
   },
   "outputs": [],
   "source": [
    "# Unique mentions\n",
    "model_output['mention'].nunique()"
   ]
  },
  {
   "cell_type": "markdown",
   "metadata": {
    "application/vnd.databricks.v1+cell": {
     "cellMetadata": {
      "byteLimit": 2048000,
      "rowLimit": 10000
     },
     "inputWidgets": {},
     "nuid": "5d5add3f-0c13-4d81-86d8-12cf3cfdd2c8",
     "showTitle": false,
     "title": ""
    }
   },
   "source": [
    "## 9.0 Clean up and completion of your pipeline\n",
    "- using the utilities what streams are running? If any.\n",
    "- Stop all active streams\n",
    "- print out the elapsed time of your notebook."
   ]
  },
  {
   "cell_type": "code",
   "execution_count": 0,
   "metadata": {
    "application/vnd.databricks.v1+cell": {
     "cellMetadata": {
      "byteLimit": 2048000,
      "rowLimit": 10000
     },
     "inputWidgets": {},
     "nuid": "0304e685-c26e-447d-b230-c37266f30003",
     "showTitle": false,
     "title": ""
    }
   },
   "outputs": [],
   "source": [
    "# ENTER YOUR CODE HERE"
   ]
  },
  {
   "cell_type": "code",
   "execution_count": 0,
   "metadata": {
    "application/vnd.databricks.v1+cell": {
     "cellMetadata": {
      "byteLimit": 2048000,
      "rowLimit": 10000
     },
     "inputWidgets": {},
     "nuid": "ea759fc8-1d78-4d6d-b571-e2e256448b76",
     "showTitle": false,
     "title": ""
    }
   },
   "outputs": [],
   "source": [
    "# Get the notebooks ending time note START_TIME was established in the include file when the notebook started.\n",
    "END_TIME = time.time()"
   ]
  },
  {
   "cell_type": "markdown",
   "metadata": {
    "application/vnd.databricks.v1+cell": {
     "cellMetadata": {
      "byteLimit": 2048000,
      "rowLimit": 10000
     },
     "inputWidgets": {},
     "nuid": "b88fc0e5-f50c-4ed1-9480-16a4c8a44b30",
     "showTitle": false,
     "title": ""
    }
   },
   "source": [
    "## 10.0 How Optimized is your Spark Application (Grad Students Only)\n",
    "Graduate students (registered for the DSCC-402 section of the course) are required to do this section.  This is a written analysis using the Spark UI (link to screen shots) that support your analysis of your pipelines execution and what is driving its performance.\n",
    "Recall that Spark Optimization has 5 significant dimensions of considertation:\n",
    "- Spill: write to executor disk due to lack of memory\n",
    "- Skew: imbalance in partition size\n",
    "- Shuffle: network io moving data between executors (wide transforms)\n",
    "- Storage: inefficiency due to disk storage format (small files, location)\n",
    "- Serialization: distribution of code segments across the cluster\n",
    "\n",
    "Comment on each of the dimentions of performance and how your impelementation is or is not being affected.  Use specific information in the Spark UI to support your description.  \n",
    "\n",
    "Note: you can take sreenshots of the Spark UI from your project runs in databricks and then link to those pictures by storing them as a publicly accessible file on your cloud drive (google, one drive, etc.)\n",
    "\n",
    "References:\n",
    "- [Spark UI Reference Reference](https://spark.apache.org/docs/latest/web-ui.html#web-ui)\n",
    "- [Spark UI Simulator](https://www.databricks.training/spark-ui-simulator/index.html)"
   ]
  },
  {
   "cell_type": "markdown",
   "metadata": {
    "application/vnd.databricks.v1+cell": {
     "cellMetadata": {
      "byteLimit": 2048000,
      "rowLimit": 10000
     },
     "inputWidgets": {},
     "nuid": "a0a5707d-a5ca-4e87-9e74-3b13d00337b0",
     "showTitle": false,
     "title": ""
    }
   },
   "source": [
    "### ENTER YOUR MARKDOWN HERE"
   ]
  }
 ],
 "metadata": {
  "application/vnd.databricks.v1+notebook": {
   "dashboards": [],
   "language": "python",
   "notebookMetadata": {
    "mostRecentlyExecutedCommandWithImplicitDF": {
     "commandId": -1,
     "dataframes": [
      "_sqldf"
     ]
    },
    "pythonIndentUnit": 4,
    "widgetLayout": [
     {
      "breakBefore": false,
      "name": "clear_previous_run",
      "width": 203
     },
     {
      "breakBefore": false,
      "name": "stop_streams",
      "width": 203
     }
    ]
   },
   "notebookName": "Starter Streaming Tweet Sentiment - Spring 2024 Final Project",
   "widgets": {
    "clear_previous_run": {
     "currentValue": "No",
     "nuid": "11b43403-c70f-41ef-ab0e-41172583baaa",
     "typedWidgetInfo": null,
     "widgetInfo": {
      "widgetType": "dropdown",
      "defaultValue": "No",
      "label": null,
      "name": "clear_previous_run",
      "options": {
       "widgetType": "dropdown",
       "autoCreated": null,
       "choices": [
        "No",
        "Yes"
       ]
      }
     }
    },
    "optimize_tables": {
     "currentValue": "No",
     "nuid": "d27f2950-3146-4010-8bc6-58c47a93e7a9",
     "typedWidgetInfo": null,
     "widgetInfo": {
      "widgetType": "dropdown",
      "defaultValue": "No",
      "label": null,
      "name": "optimize_tables",
      "options": {
       "widgetType": "dropdown",
       "autoCreated": null,
       "choices": [
        "No",
        "Yes"
       ]
      }
     }
    },
    "stop_streams": {
     "currentValue": "No",
     "nuid": "d70a2190-266e-473c-86a7-84f7bf56b386",
     "typedWidgetInfo": null,
     "widgetInfo": {
      "widgetType": "dropdown",
      "defaultValue": "No",
      "label": null,
      "name": "stop_streams",
      "options": {
       "widgetType": "dropdown",
       "autoCreated": null,
       "choices": [
        "No",
        "Yes"
       ]
      }
     }
    }
   }
  }
 },
 "nbformat": 4,
 "nbformat_minor": 0
}
